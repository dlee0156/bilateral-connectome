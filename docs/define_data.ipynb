{
 "cells": [
  {
   "cell_type": "markdown",
   "id": "14e26dd7",
   "metadata": {},
   "source": [
    "# Defining the data\n",
    "Here we describe in more detail what data we will use for the bilateral symmetry\n",
    "comparisons."
   ]
  },
  {
   "cell_type": "markdown",
   "id": "9c75c9f7",
   "metadata": {
    "lines_to_next_cell": 0
   },
   "source": [
    "## Unmatched data\n",
    "First we consider a left/right hemisphere dataset which does not require any\n",
    "neuron-to-neuron correspondence between the two hemispheres.\n",
    "\n",
    "We remove all neurons who do not have at least 3 inputs and at least 3 outputs in the\n",
    "brain network - these are mostly \"young\" neurons. We then take the largest connected\n",
    "component after this removal.\n",
    "\n",
    "Then, for the networks we are going to compare, we select only the left-to-left\n",
    "(ipsilateral) induced subgraph, and likewise for the right-to-right. Note that there\n",
    "are conceivable ways to define a notion of bilateral symmetry which does include the\n",
    "contralateral connections as well, but we do not consider that here.\n",
    "\n",
    "For the networks themselves, we chose to operate on networks which are:\n",
    "- **Unweighted**: we do not consider the number of synapses between two neurons in the\n",
    "  current analysis. For the current network of\n",
    "  interest, four edge types are available: axo-axonic, axo-dendritic,\n",
    "  dendro-dendritic, and dendro-axonic. We make no distinction between these four edges\n",
    "  types. For now, we condider there to be an edge if there is at least one\n",
    "  synapse between any two neurons (of any edge type).  One could consider notions of\n",
    "  bilateral symmetry\n",
    "  for a weighted network, and even for the unweighted case, one could consider varying\n",
    "  thresholds of the network based on varying edge weights (which have often been\n",
    "  employeed in connectomics studies). For now, we focus on the unweighted case purely\n",
    "  for simplicity and the availability of more two-sample tests for unweighted networks,\n",
    "  though the weighted case or choice of threshold are also of great interest.\n",
    "- **Directed**: we allow for a distinction between edges which go from neuron $i$ to\n",
    "  neuron $j$ as opposed to from $j$ to $i$.\n",
    "- **Loopless**: we remove any edges which go from neuron $i$ to neuron $i$."
   ]
  },
  {
   "cell_type": "code",
   "execution_count": 1,
   "id": "c6e9ce94",
   "metadata": {
    "tags": [
     "hide-input"
    ]
   },
   "outputs": [
    {
     "name": "stdout",
     "output_type": "stream",
     "text": [
      "Using data from 2021-05-24-v2\n",
      "Saving data to ../data/processed\n"
     ]
    }
   ],
   "source": [
    "from pkg.utils import set_warnings\n",
    "\n",
    "set_warnings()\n",
    "\n",
    "from pathlib import Path\n",
    "\n",
    "import networkx as nx\n",
    "import pandas as pd\n",
    "from graspologic.utils import binarize, remove_loops\n",
    "from myst_nb import glue\n",
    "from pkg.data import DATA_VERSION, load_maggot_graph, select_nice_nodes\n",
    "\n",
    "print(f\"Using data from {DATA_VERSION}\")\n",
    "\n",
    "output_dir = Path(\"../data/processed\")\n",
    "print(f\"Saving data to {output_dir}\")"
   ]
  },
  {
   "cell_type": "code",
   "execution_count": 2,
   "id": "bb44ea84",
   "metadata": {
    "tags": [
     "hide-input"
    ]
   },
   "outputs": [
    {
     "data": {
      "application/papermill.record/text/plain": "1485"
     },
     "metadata": {
      "scrapbook": {
       "mime_prefix": "application/papermill.record/",
       "name": "n_left"
      }
     },
     "output_type": "display_data"
    },
    {
     "data": {
      "application/papermill.record/text/plain": "1484"
     },
     "metadata": {
      "scrapbook": {
       "mime_prefix": "application/papermill.record/",
       "name": "n_right"
      }
     },
     "output_type": "display_data"
    }
   ],
   "source": [
    "mg = load_maggot_graph()\n",
    "mg = select_nice_nodes(mg)\n",
    "left_mg, right_mg = mg.bisect(lcc=True)\n",
    "left_nodes = left_mg.nodes\n",
    "right_nodes = right_mg.nodes\n",
    "\n",
    "left_adj = left_mg.sum.adj\n",
    "right_adj = right_mg.sum.adj\n",
    "\n",
    "left_adj = binarize(left_adj)\n",
    "right_adj = binarize(right_adj)\n",
    "\n",
    "left_adj = remove_loops(left_adj)\n",
    "right_adj = remove_loops(right_adj)\n",
    "\n",
    "glue(\"n_left\", left_adj.shape[0], display=False)\n",
    "glue(\"n_right\", right_adj.shape[0], display=False)"
   ]
  },
  {
   "cell_type": "markdown",
   "id": "073f5391",
   "metadata": {},
   "source": [
    "After this data cleaning, we are left with {glue:text}`n_left` neurons in the left\n",
    "hemisphere, and {glue:text}`n_right` neurons in the right hemisphere."
   ]
  },
  {
   "cell_type": "code",
   "execution_count": 3,
   "id": "22bfce2d",
   "metadata": {
    "tags": [
     "hide-input"
    ]
   },
   "outputs": [],
   "source": [
    "left_adj = pd.DataFrame(data=left_adj, index=left_nodes.index, columns=left_nodes.index)\n",
    "left_g = nx.from_pandas_adjacency(left_adj, create_using=nx.DiGraph)\n",
    "nx.write_edgelist(\n",
    "    left_g, output_dir / \"unmatched_left_edgelist.csv\", delimiter=\",\", data=False\n",
    ")\n",
    "\n",
    "left_nodes.to_csv(output_dir / \"unmatched_left_nodes.csv\")\n",
    "\n",
    "\n",
    "right_adj = pd.DataFrame(\n",
    "    data=right_adj, index=right_nodes.index, columns=right_nodes.index\n",
    ")\n",
    "right_g = nx.from_pandas_adjacency(right_adj, create_using=nx.DiGraph)\n",
    "nx.write_edgelist(\n",
    "    right_g, output_dir / \"unmatched_right_edgelist.csv\", delimiter=\",\", data=False\n",
    ")\n",
    "\n",
    "right_nodes.to_csv(output_dir / \"unmatched_right_nodes.csv\")"
   ]
  }
 ],
 "metadata": {
  "jupytext": {
   "cell_metadata_filter": "-all",
   "main_language": "python",
   "notebook_metadata_filter": "-all"
  },
  "language_info": {
   "codemirror_mode": {
    "name": "ipython",
    "version": 3
   },
   "file_extension": ".py",
   "mimetype": "text/x-python",
   "name": "python",
   "nbconvert_exporter": "python",
   "pygments_lexer": "ipython3",
   "version": "3.9.7"
  }
 },
 "nbformat": 4,
 "nbformat_minor": 5
}
