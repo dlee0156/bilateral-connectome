{
 "cells": [
  {
   "cell_type": "markdown",
   "id": "407e7442",
   "metadata": {
    "lines_to_next_cell": 0
   },
   "source": [
    "# The data\n",
    "Here we describe in more detail what data we will use for the bilateral symmetry\n",
    "comparisons."
   ]
  },
  {
   "cell_type": "code",
   "execution_count": 1,
   "id": "88c33530",
   "metadata": {
    "tags": [
     "hide-input"
    ]
   },
   "outputs": [
    {
     "name": "stdout",
     "output_type": "stream",
     "text": [
      "Removed 12 nodes when taking the largest connected component.\n",
      "Removed 38 nodes when removing pendants.\n",
      "Removed 0 nodes when taking the largest connected component.\n"
     ]
    }
   ],
   "source": [
    "import warnings\n",
    "\n",
    "warnings.filterwarnings(\"ignore\")\n",
    "\n",
    "import datetime\n",
    "import time\n",
    "\n",
    "import matplotlib.pyplot as plt\n",
    "import numpy as np\n",
    "import pandas as pd\n",
    "import seaborn as sns\n",
    "from giskard.plot import remove_shared_ax, rotate_labels\n",
    "from graspologic.utils import binarize\n",
    "from matplotlib.transforms import Bbox\n",
    "from myst_nb import glue\n",
    "from pkg.data import (\n",
    "    load_maggot_graph,\n",
    "    load_network_palette,\n",
    "    load_node_palette,\n",
    "    select_nice_nodes,\n",
    ")\n",
    "from pkg.io import savefig\n",
    "from pkg.perturb import remove_edges\n",
    "from pkg.plot import set_theme\n",
    "from pkg.stats import stochastic_block_test\n",
    "from seaborn.utils import relative_luminance\n",
    "from tqdm import tqdm\n",
    "\n",
    "\n",
    "mg = load_maggot_graph()\n",
    "mg = select_nice_nodes(mg)\n",
    "left_mg, right_mg = mg.bisect(lcc=True)\n",
    "left_nodes = left_mg.nodes\n",
    "right_nodes = right_mg.nodes\n",
    "\n",
    "left_adj = left_mg.sum.adj\n",
    "right_adj = right_mg.sum.adj\n",
    "left_adj = binarize(left_adj)\n",
    "right_adj = binarize(right_adj)"
   ]
  }
 ],
 "metadata": {
  "jupytext": {
   "cell_metadata_filter": "-all",
   "main_language": "python",
   "notebook_metadata_filter": "-all"
  },
  "language_info": {
   "codemirror_mode": {
    "name": "ipython",
    "version": 3
   },
   "file_extension": ".py",
   "mimetype": "text/x-python",
   "name": "python",
   "nbconvert_exporter": "python",
   "pygments_lexer": "ipython3",
   "version": "3.9.7"
  }
 },
 "nbformat": 4,
 "nbformat_minor": 5
}
