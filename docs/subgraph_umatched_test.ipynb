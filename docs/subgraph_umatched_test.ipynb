{
 "cells": [
  {
   "cell_type": "markdown",
   "metadata": {},
   "source": [
    "# A subgraph-based test\n",
    "\n",
    "A subgraph count is the number of copies of a given subgraph in another graph. Subgraph counts can be a powerful statistic for testing whether or not a collection of networks comes from the same distribution, so here, we compare the triangle subgraph counts of the left and right hemispheres to test for bilateral symmetry. "
   ]
  },
  {
   "cell_type": "code",
   "execution_count": null,
   "metadata": {},
   "outputs": [],
   "source": [
    "# import modules\n",
    "#from pkg.utils import set_warnings\n",
    "#set_warnings()\n",
    "\n",
    "import datetime\n",
    "import time\n",
    "\n",
    "import matplotlib.pyplot as plt\n",
    "import numpy as np\n",
    "import pandas as pd\n",
    "import seaborn as sns\n",
    "from dotmotif import Motif, GrandIsoExecutor\n",
    "import networkx as nx\n",
    "import random\n",
    "from myst_nb import glue as default_glue\n",
    "\n",
    "from pkg.data import load_network_palette, load_node_palette, load_unmatched\n",
    "from pkg.io import savefig\n",
    "from pkg.plot import set_theme\n",
    "from pkg.utils import get_seeds\n",
    "\n",
    "DISPLAY_FIGS = False\n",
    "\n",
    "FILENAME = \"subgraph_unmatched_test\"\n",
    "\n",
    "\n",
    "def gluefig(name, fig, **kwargs):\n",
    "    savefig(name, foldername=FILENAME, **kwargs)\n",
    "\n",
    "    glue(name, fig, prefix=\"fig\")\n",
    "\n",
    "    if not DISPLAY_FIGS:\n",
    "        plt.close()\n",
    "\n",
    "\n",
    "def glue(name, var, prefix=None):\n",
    "    savename = f\"{FILENAME}-{name}\"\n",
    "    if prefix is not None:\n",
    "        savename = prefix + \":\" + savename\n",
    "    default_glue(savename, var, display=False)\n",
    "    \n",
    "t0 = time.time()\n",
    "set_theme(font_scale=0.75)\n",
    "\n",
    "left_adj, left_nodes = load_unmatched(\"left\")\n",
    "right_adj, right_nodes = load_unmatched(\"right\")\n",
    "\n",
    "left_nodes[\"inds\"] = range(len(left_nodes))\n",
    "right_nodes[\"inds\"] = range(len(right_nodes))\n",
    "\n",
    "network_palette, NETWORK_KEY = load_network_palette()\n",
    "\n",
    "seeds = get_seeds(left_nodes, right_nodes)"
   ]
  },
  {
   "cell_type": "markdown",
   "metadata": {},
   "source": [
    "## Comparing triangle subgraph counts\n",
    "\n",
    "First, we will count the number of triangle subgraphs present in the left and right hemispheres using the [dotmotif](https://github.com/aplbrain/dotmotif) package, then we will calculate the absolute difference between the two values. Note that a triangle subgraph with nodes 1, 2, and 3 is treated to be the same as a triangle with nodes 2, 3, and 1, as well as a triangle with nodes 3, 1, and 2. "
   ]
  },
  {
   "cell_type": "code",
   "execution_count": null,
   "metadata": {},
   "outputs": [],
   "source": [
    "triangle = Motif(\"\"\"\n",
    "A -> B\n",
    "B -> C\n",
    "C -> A\n",
    "\"\"\")\n",
    "\n",
    "left_g = nx.from_numpy_matrix(left_adj, create_using=nx.DiGraph)\n",
    "left_executor = GrandIsoExecutor(graph=left_g)\n",
    "left_counts = int(left_executor.count(triangle)/3)\n",
    "\n",
    "right_g = nx.from_numpy_matrix(right_adj, create_using=nx.DiGraph)\n",
    "right_executor = GrandIsoExecutor(graph=right_g)\n",
    "right_counts = int(right_executor.count(triangle)/3)\n",
    "\n",
    "diff_counts = right_counts - left_counts\n",
    "\n",
    "glue(\"left_counts\", left_counts)\n",
    "glue(\"right_counts\", right_counts)\n",
    "glue(\"diff_counts\", diff_counts)"
   ]
  },
  {
   "cell_type": "code",
   "execution_count": null,
   "metadata": {},
   "outputs": [],
   "source": [
    "fig, ax = plt.subplots(1, 1, figsize=(8, 6))\n",
    "\n",
    "ax.bar(0, left_counts, color=network_palette[\"Left\"])\n",
    "ax.bar(1, right_counts, color=network_palette[\"Right\"])\n",
    "\n",
    "ax.set(\n",
    "    xlabel=\"Network\",\n",
    "    xticks=[0, 1],\n",
    "    xticklabels=[\"Left\", \"Right\"],\n",
    "    ylabel=\"Triangle Subgraph Counts\",\n",
    ")\n",
    "\n",
    "gluefig(\"triangles\", fig)"
   ]
  },
  {
   "cell_type": "markdown",
   "metadata": {},
   "source": [
    "```{glue:figure} fig:subgraph_unmatched_test-triangles\n",
    ":name: \"fig:subgraph_unmatched_test-triangles\"\n",
    "\n",
    "Comparison of the number of triangle subgraph counts in the left and right hemispheres. The triangle subgraph count for the left hemisphere is ~{glue:text}`subgraph_unmatched_test-left_counts` and ~{glue:text}`subgraph_unmatched_test-right_counts` for the right, resulting in a difference of ~{glue:text}`subgraph_unmatched_test-diff_counts` (right-left). ```"
   ]
  },
  {
   "cell_type": "markdown",
   "metadata": {},
   "source": [
    "## Adjusting for a difference in density\n",
    "\n",
    "{numref}`Figure {number} <fig:sbm_unmatched_test-sbm_uncorrected>` shows that there is a slight difference between the number of triangle subcounts in the left and right hemispheres. However, we saw in [](er_unmatched_test) that the overall densities between the two networks are different. We used the same approach we used in [](sbm_unmatched_test) to adjust for a difference in density, where we simply made the densities of the two networks the same and then reran our test. To do so, we calculated the number of edge removals (from the right hemisphere) required to set the network densities roughly the same. We then randomly removed that many edges from the right hemisphere network and then re-computed the number of triangle subgraphs. We repeated this procedure {glue:text}`subgraph_unmatched_test-n_resamples` times, resulting in a new absolute difference in subgraph counts for each subsampling of the right network. The distribution of the results is shown in {numref}`Figure {number} <fig:subgraph_unmatched_test-triangles_corrected>`. Note that the difference was calculated by subtracting the number of triangle subgraph counts in the left hemisphere from the right.  "
   ]
  },
  {
   "cell_type": "code",
   "execution_count": null,
   "metadata": {},
   "outputs": [],
   "source": [
    "# compute density correction\n",
    "n_edges_left = np.count_nonzero(left_adj)\n",
    "n_edges_right = np.count_nonzero(right_adj)\n",
    "n_left = left_adj.shape[0]\n",
    "n_right = right_adj.shape[0]\n",
    "density_left = n_edges_left / (n_left ** 2)\n",
    "density_right = n_edges_right / (n_right ** 2)\n",
    "\n",
    "n_remove = int((density_right - density_left) * (n_right ** 2))\n",
    "\n",
    "glue(\"density_left\", density_left)\n",
    "glue(\"density_right\", density_right)\n",
    "glue(\"n_remove\", n_remove)"
   ]
  },
  {
   "cell_type": "code",
   "execution_count": null,
   "metadata": {},
   "outputs": [],
   "source": [
    "stats = []\n",
    "n_resamples = 25\n",
    "glue(\"n_resamples\", n_resamples)\n",
    "\n",
    "for i in range(n_resamples):\n",
    "    edge_remove_idx = random.sample(range(1, n_edges_right), n_remove)\n",
    "    remove_idx = tuple(np.array(np.nonzero(right_adj))[:, edge_remove_idx])\n",
    "\n",
    "    subsampled_right_adj = right_adj.copy()\n",
    "    subsampled_right_adj[remove_idx] = 0\n",
    "    subsampled_right_g = nx.from_numpy_matrix(subsampled_right_adj, create_using=nx.DiGraph)\n",
    "\n",
    "    subsampled_right_executor = GrandIsoExecutor(graph=subsampled_right_g)\n",
    "    subsampled_right_counts = subsampled_right_executor.count(triangle)\n",
    "\n",
    "    stat = subsampled_right_counts - left_counts\n",
    "    stats.append(stat)"
   ]
  },
  {
   "cell_type": "code",
   "execution_count": null,
   "metadata": {},
   "outputs": [],
   "source": [
    "fig, ax = plt.subplots(1, 1, figsize=(8, 6))\n",
    "sns.histplot(data=stats, ax=ax)\n",
    "ax.set_xlabel(\"Difference in Triangle Subgraph Count (Right - Left)\")\n",
    "ax.set_ylabel(\"Counts\")\n",
    "\n",
    "gluefig(\"triangles_corrected\", fig)"
   ]
  },
  {
   "cell_type": "markdown",
   "metadata": {},
   "source": [
    "```{glue:figure} fig:subgraph_unmatched_test-triangles_corrected\n",
    ":name: \"fig:subgraph_unmatched_test-triangles_corrected\"\n",
    "\n",
    "Histogram of the absolute difference in triangle subcounts after correcting for network density. For the observed networks, the left hemisphere has a density of {glue:text}`subgraph_unmatched_test-density_left:0.4f`, and the right hemisphere has\n",
    "a density of {glue:text}`subgraph_unmatched_test-density_right:0.4f`. Here, we randomly removed exactly {glue:text}`sbm_unmatched_test-n_remove` edges from the right hemisphere network, which makes the density of the right network\n",
    "match that of the left hemisphere network. Then, we re-computed the difference in triangle subgraph counts from {numref}`Figure {number} <fig:subgraph_unmatched_test-triangles>`. This entire process was repeated {glue:text}`subgraph_unmatched_test-n_resamples` times. The histogram above shows the distribution of the results. Note that the difference was calculated by subtracting the number of triangle subgraph counts of the left hemisphere from the right.\n",
    "```"
   ]
  },
  {
   "cell_type": "code",
   "execution_count": null,
   "metadata": {},
   "outputs": [],
   "source": []
  }
 ],
 "metadata": {
  "kernelspec": {
   "display_name": "Python 3",
   "language": "python",
   "name": "python3"
  },
  "language_info": {
   "codemirror_mode": {
    "name": "ipython",
    "version": 3
   },
   "file_extension": ".py",
   "mimetype": "text/x-python",
   "name": "python",
   "nbconvert_exporter": "python",
   "pygments_lexer": "ipython3",
   "version": "3.7.6"
  }
 },
 "nbformat": 4,
 "nbformat_minor": 4
}
