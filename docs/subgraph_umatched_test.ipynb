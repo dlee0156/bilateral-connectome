{
 "cells": [
  {
   "cell_type": "markdown",
   "metadata": {},
   "source": [
    "# A subgraph-based test\n",
    "\n",
    "We will compare the number of triangle subcounts in two unmatched networks."
   ]
  },
  {
   "cell_type": "markdown",
   "metadata": {},
   "source": [
    "## Preliminaries"
   ]
  },
  {
   "cell_type": "code",
   "execution_count": 13,
   "metadata": {},
   "outputs": [],
   "source": [
    "# import modules\n",
    "from pkg.utils import set_warnings\n",
    "set_warnings()\n",
    "\n",
    "import datetime\n",
    "import time\n",
    "\n",
    "import matplotlib.pyplot as plt\n",
    "import numpy as np\n",
    "import pandas as pd\n",
    "import seaborn as sns\n",
    "from dotmotif import Motif, GrandIsoExecutor\n",
    "import networkx as nx\n",
    "import random\n",
    "from myst_nb import glue\n",
    "\n",
    "from pkg.data import load_network_palette, load_node_palette, load_unmatched\n",
    "from pkg.io import savefig\n",
    "from pkg.plot import set_theme\n",
    "from pkg.utils import get_seeds"
   ]
  },
  {
   "cell_type": "code",
   "execution_count": 24,
   "metadata": {},
   "outputs": [],
   "source": [
    "# load data\n",
    "t0 = time.time()\n",
    "set_theme(font_scale=0.75)\n",
    "\n",
    "left_adj, left_nodes = load_unmatched(\"left\")\n",
    "right_adj, right_nodes = load_unmatched(\"right\")\n",
    "\n",
    "left_nodes[\"inds\"] = range(len(left_nodes))\n",
    "right_nodes[\"inds\"] = range(len(right_nodes))\n",
    "\n",
    "seeds = get_seeds(left_nodes, right_nodes)"
   ]
  },
  {
   "cell_type": "markdown",
   "metadata": {},
   "source": [
    "## Compute the difference in triangle subgraph counts\n",
    "\n",
    "We subsampled edges from the right hemisphere to correct for the difference in density, then counted the number of triangle subgraphs in each network using the [dotmotif](https://github.com/aplbrain/dotmotif) package. 500 different subsamples were generated randomly, and the distribution of the difference in subgraph counts were plotted."
   ]
  },
  {
   "cell_type": "code",
   "execution_count": 21,
   "metadata": {},
   "outputs": [
    {
     "data": {
      "application/papermill.record/text/plain": "0.01644412701651759"
     },
     "metadata": {
      "scrapbook": {
       "mime_prefix": "application/papermill.record/",
       "name": "density_left"
      }
     },
     "output_type": "display_data"
    },
    {
     "data": {
      "application/papermill.record/text/plain": "0.017669153813180665"
     },
     "metadata": {
      "scrapbook": {
       "mime_prefix": "application/papermill.record/",
       "name": "density_right"
      }
     },
     "output_type": "display_data"
    },
    {
     "data": {
      "application/papermill.record/text/plain": "2697"
     },
     "metadata": {
      "scrapbook": {
       "mime_prefix": "application/papermill.record/",
       "name": "n_remove"
      }
     },
     "output_type": "display_data"
    }
   ],
   "source": [
    "# compute density correction\n",
    "n_edges_left = np.count_nonzero(left_adj)\n",
    "n_edges_right = np.count_nonzero(right_adj)\n",
    "n_left = left_adj.shape[0]\n",
    "n_right = right_adj.shape[0]\n",
    "density_left = n_edges_left / (n_left ** 2)\n",
    "density_right = n_edges_right / (n_right ** 2)\n",
    "\n",
    "n_remove = int((density_right - density_left) * (n_right ** 2))\n",
    "\n",
    "glue(\"density_left\", density_left, display=False)\n",
    "glue(\"density_right\", density_right, display=False)\n",
    "glue(\"n_remove\", n_remove, display=False)"
   ]
  },
  {
   "cell_type": "code",
   "execution_count": 22,
   "metadata": {},
   "outputs": [
    {
     "data": {
      "application/papermill.record/text/plain": "500"
     },
     "metadata": {
      "scrapbook": {
       "mime_prefix": "application/papermill.record/",
       "name": "n_resamples"
      }
     },
     "output_type": "display_data"
    }
   ],
   "source": [
    "stats = []\n",
    "left_g = nx.from_numpy_matrix(left_adj, create_using=nx.DiGraph)\n",
    "n_resamples = 500\n",
    "glue(\"n_resamples\", n_resamples, display=False)\n",
    "\n",
    "for i in range(n_resamples):\n",
    "    edge_remove_idx = random.sample(range(1, n_edges_right), n_remove)\n",
    "    remove_idx = tuple(np.array(np.nonzero(right_adj))[:, edge_remove_idx])\n",
    "\n",
    "    subsampled_right_adj = right_adj.copy()\n",
    "    subsampled_right_adj[remove_idx] = 0\n",
    "    subsampled_right_g = nx.from_numpy_matrix(subsampled_right_adj, create_using=nx.DiGraph)\n",
    "\n",
    "    triangle = Motif(\"\"\"\n",
    "    A -> B\n",
    "    B -> C\n",
    "    C -> A\n",
    "    \"\"\")\n",
    "\n",
    "    left_executor = GrandIsoExecutor(graph=left_g)\n",
    "    left_counts = left_executor.count(triangle)\n",
    "\n",
    "    right_executor = GrandIsoExecutor(graph=subsampled_right_g)\n",
    "    right_counts = right_executor.count(triangle)\n",
    "\n",
    "    stat = left_counts - right_counts\n",
    "    stats.append(stat)"
   ]
  },
  {
   "cell_type": "code",
   "execution_count": 27,
   "metadata": {},
   "outputs": [
    {
     "data": {
      "image/png": "[encoded data removed]",
      "text/plain": [
       "<Figure size 432x288 with 1 Axes>"
      ]
     },
     "metadata": {
      "needs_background": "light"
     },
     "output_type": "display_data"
    }
   ],
   "source": [
    "fig, ax = plt.subplots(1, 1)\n",
    "sns.histplot(data=stats, ax=ax)\n",
    "ax.set_xlabel(\"Difference in Triangle Subgraph Count (Left - Right)\")\n",
    "ax.set_ylabel(\"Counts\")\n",
    "\n",
    "#plt.savefig('triangle_count_distribution.jpg')"
   ]
  },
  {
   "cell_type": "code",
   "execution_count": null,
   "metadata": {},
   "outputs": [],
   "source": []
  }
 ],
 "metadata": {
  "kernelspec": {
   "display_name": "Python 3",
   "language": "python",
   "name": "python3"
  },
  "language_info": {
   "codemirror_mode": {
    "name": "ipython",
    "version": 3
   },
   "file_extension": ".py",
   "mimetype": "text/x-python",
   "name": "python",
   "nbconvert_exporter": "python",
   "pygments_lexer": "ipython3",
   "version": "3.7.6"
  }
 },
 "nbformat": 4,
 "nbformat_minor": 4
}
