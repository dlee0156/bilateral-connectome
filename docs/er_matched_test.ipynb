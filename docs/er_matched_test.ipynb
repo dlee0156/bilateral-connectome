{
 "cells": [
  {
   "cell_type": "markdown",
   "id": "25106ef8",
   "metadata": {},
   "source": [
    "# A density-based test\n",
    "Here, we compare the two matched networks by treating each as an Erdos-Renyi network."
   ]
  },
  {
   "cell_type": "code",
   "execution_count": 1,
   "id": "a4a9fc1e",
   "metadata": {
    "lines_to_next_cell": 2,
    "tags": [
     "hide-input"
    ]
   },
   "outputs": [],
   "source": [
    "\n",
    "from pkg.utils import set_warnings\n",
    "\n",
    "set_warnings()\n",
    "\n",
    "import datetime\n",
    "import time\n",
    "\n",
    "import matplotlib.pyplot as plt\n",
    "import numpy as np\n",
    "import seaborn as sns\n",
    "from giskard.plot import rotate_labels\n",
    "from myst_nb import glue as default_glue\n",
    "from pkg.data import load_matched, load_network_palette, load_node_palette\n",
    "from pkg.io import savefig\n",
    "from pkg.plot import set_theme\n",
    "from pkg.stats import erdos_renyi_test_paired\n",
    "\n",
    "DISPLAY_FIGS = False\n",
    "FILENAME = \"er_matched_test\"\n",
    "\n",
    "rng = np.random.default_rng(8888)\n",
    "\n",
    "\n",
    "def gluefig(name, fig, **kwargs):\n",
    "    savefig(name, foldername=FILENAME, **kwargs)\n",
    "\n",
    "    glue(name, fig, prefix=\"fig\")\n",
    "\n",
    "    if not DISPLAY_FIGS:\n",
    "        plt.close()\n",
    "\n",
    "\n",
    "def glue(name, var, prefix=None):\n",
    "    savename = f\"{FILENAME}-{name}\"\n",
    "    if prefix is not None:\n",
    "        savename = prefix + \":\" + savename\n",
    "    default_glue(savename, var, display=False)\n",
    "\n",
    "\n",
    "t0 = time.time()\n",
    "set_theme(font_scale=1.25)\n",
    "\n",
    "network_palette, NETWORK_KEY = load_network_palette()\n",
    "node_palette, NODE_KEY = load_node_palette()\n",
    "\n",
    "\n",
    "left_adj, left_nodes = load_matched(\"left\")\n",
    "right_adj, right_nodes = load_matched(\"right\")"
   ]
  },
  {
   "cell_type": "code",
   "execution_count": 2,
   "id": "e53b2962",
   "metadata": {
    "tags": [
     "hide-input"
    ]
   },
   "outputs": [
    {
     "data": {
      "application/papermill.record/text/plain": "1.9445862331112898e-54"
     },
     "metadata": {
      "scrapbook": {
       "mime_prefix": "application/papermill.record/",
       "name": "er_matched_test-pvalue"
      }
     },
     "output_type": "display_data"
    },
    {
     "data": {
      "application/papermill.record/text/plain": "1464298"
     },
     "metadata": {
      "scrapbook": {
       "mime_prefix": "application/papermill.record/",
       "name": "er_matched_test-n_no_edge"
      }
     },
     "output_type": "display_data"
    },
    {
     "data": {
      "application/papermill.record/text/plain": "15387"
     },
     "metadata": {
      "scrapbook": {
       "mime_prefix": "application/papermill.record/",
       "name": "er_matched_test-n_both_edge"
      }
     },
     "output_type": "display_data"
    },
    {
     "data": {
      "application/papermill.record/text/plain": "13429"
     },
     "metadata": {
      "scrapbook": {
       "mime_prefix": "application/papermill.record/",
       "name": "er_matched_test-n_only_left"
      }
     },
     "output_type": "display_data"
    },
    {
     "data": {
      "application/papermill.record/text/plain": "16098"
     },
     "metadata": {
      "scrapbook": {
       "mime_prefix": "application/papermill.record/",
       "name": "er_matched_test-n_only_right"
      }
     },
     "output_type": "display_data"
    }
   ],
   "source": [
    "\n",
    "stat, pvalue, misc = erdos_renyi_test_paired(left_adj, right_adj)\n",
    "glue(\"pvalue\", pvalue)\n",
    "\n",
    "n_no_edge = misc[\"neither\"]\n",
    "n_both_edge = misc[\"both\"]\n",
    "n_only_left = misc[\"only1\"]\n",
    "n_only_right = misc[\"only2\"]\n",
    "glue(\"n_no_edge\", n_no_edge)\n",
    "glue(\"n_both_edge\", n_both_edge)\n",
    "glue(\"n_only_left\", n_only_left)\n",
    "glue(\"n_only_right\", n_only_right)"
   ]
  },
  {
   "cell_type": "code",
   "execution_count": 3,
   "id": "2ef7e748",
   "metadata": {
    "tags": [
     "hide-input"
    ]
   },
   "outputs": [
    {
     "data": {
      "application/papermill.record/image/png": "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\n",
      "application/papermill.record/text/plain": "<Figure size 576x576 with 2 Axes>"
     },
     "metadata": {
      "scrapbook": {
       "mime_prefix": "application/papermill.record/",
       "name": "fig:er_matched_test-edge_count_bars"
      }
     },
     "output_type": "display_data"
    }
   ],
   "source": [
    "\n",
    "# REF: https://matplotlib.org/stable/gallery/subplots_axes_and_figures/broken_axis.html\n",
    "fig, axs = plt.subplots(\n",
    "    2,\n",
    "    1,\n",
    "    figsize=(8, 8),\n",
    "    sharex=True,\n",
    "    gridspec_kw=dict(hspace=0.05, height_ratios=[1, 2]),\n",
    ")\n",
    "\n",
    "neutral_color = sns.color_palette(\"Set2\")[2]\n",
    "empty_color = sns.color_palette(\"Set2\")[7]\n",
    "\n",
    "\n",
    "def plot_bar(x, height, color=None, ax=None, text=True):\n",
    "    ax.bar(x, height, color=color)\n",
    "    if text:\n",
    "        ax.text(x, height, f\"{height:,}\", color=color, ha=\"center\", va=\"bottom\")\n",
    "\n",
    "\n",
    "lower_ymax = max(n_both_edge, n_only_left, n_only_right)\n",
    "\n",
    "ax = axs[0]\n",
    "plot_bar(0, n_both_edge, color=neutral_color, ax=ax, text=False)\n",
    "plot_bar(1, n_only_left, color=network_palette[\"Left\"], ax=ax, text=False)\n",
    "plot_bar(2, n_only_right, color=network_palette[\"Right\"], ax=ax, text=False)\n",
    "plot_bar(3, n_no_edge, color=empty_color, ax=ax)\n",
    "ax.set_ylim(n_no_edge * 0.9, n_no_edge * 1.1)\n",
    "ax.spines.bottom.set_visible(False)\n",
    "ax.set_yticks([1_500_000])\n",
    "ax.set_yticklabels([\"1.5e6\"])\n",
    "\n",
    "\n",
    "ax = axs[1]\n",
    "plot_bar(0, n_both_edge, color=neutral_color, ax=ax)\n",
    "plot_bar(1, n_only_left, color=network_palette[\"Left\"], ax=ax)\n",
    "plot_bar(2, n_only_right, color=network_palette[\"Right\"], ax=ax)\n",
    "plot_bar(3, n_no_edge, color=empty_color, ax=ax, text=False)\n",
    "ax.set_xticks([0, 1, 2, 3])\n",
    "ax.set_xticklabels([\"Edge in\\nboth\", \"Left edge\\nonly\", \"Right edge\\nonly\", \"No edge\"])\n",
    "rotate_labels(ax)\n",
    "ax.set_ylim(0, lower_ymax * 1.05)\n",
    "\n",
    "ax.set_yticks([15000])\n",
    "ax.set_yticklabels([\"1.5e4\"])\n",
    "\n",
    "d = 0.5  # proportion of vertical to horizontal extent of the slanted line\n",
    "kwargs = dict(\n",
    "    marker=[(-1, -d), (1, d)],\n",
    "    markersize=12,\n",
    "    linestyle=\"none\",\n",
    "    color=\"k\",\n",
    "    mec=\"k\",\n",
    "    mew=1,\n",
    "    clip_on=False,\n",
    ")\n",
    "axs[0].plot([0, 1], [0, 0], transform=axs[0].transAxes, **kwargs)\n",
    "axs[1].plot([0, 1], [1, 1], transform=axs[1].transAxes, **kwargs)\n",
    "\n",
    "gluefig(\"edge_count_bars\", fig)"
   ]
  },
  {
   "cell_type": "markdown",
   "id": "af08de73",
   "metadata": {},
   "source": [
    "\n",
    "```{glue:figure} fig:er_matched_test-edge_count_bars\n",
    ":name: \"fig:er_matched_test-edge_count_bars\"\n",
    "\n",
    "The number of edges in each of the four possible categories for the 2x2 paired\n",
    "contingency table comparing paired edges. P-value for the McNemar's test comparing\n",
    "the left and right paired edge counts is {glue:text}`er_matched_test-pvalue:0.3g`.\n",
    "Note that\n",
    "McNemar's test only compares the disagreeing edge counts, \"Left edge only\" and\n",
    "\"Right edge only\".\n",
    "```"
   ]
  },
  {
   "cell_type": "code",
   "execution_count": 4,
   "id": "a319b6c3",
   "metadata": {
    "tags": [
     "hide-input"
    ]
   },
   "outputs": [
    {
     "name": "stdout",
     "output_type": "stream",
     "text": [
      "Script took 0:00:01.415453\n",
      "Completed at 2021-11-10 11:28:38.358462\n"
     ]
    }
   ],
   "source": [
    "elapsed = time.time() - t0\n",
    "delta = datetime.timedelta(seconds=elapsed)\n",
    "print(f\"Script took {delta}\")\n",
    "print(f\"Completed at {datetime.datetime.now()}\")"
   ]
  }
 ],
 "metadata": {
  "jupytext": {
   "cell_metadata_filter": "-all",
   "main_language": "python",
   "notebook_metadata_filter": "-all"
  },
  "language_info": {
   "codemirror_mode": {
    "name": "ipython",
    "version": 3
   },
   "file_extension": ".py",
   "mimetype": "text/x-python",
   "name": "python",
   "nbconvert_exporter": "python",
   "pygments_lexer": "ipython3",
   "version": "3.9.7"
  }
 },
 "nbformat": 4,
 "nbformat_minor": 5
}
