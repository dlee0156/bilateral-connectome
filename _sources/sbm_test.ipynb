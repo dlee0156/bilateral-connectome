{
 "cells": [
  {
   "cell_type": "markdown",
   "id": "3e1d8a6a",
   "metadata": {},
   "source": [
    "(page:sbm-test)=\n",
    "# A community based test"
   ]
  },
  {
   "cell_type": "markdown",
   "id": "eed2f6da",
   "metadata": {
    "lines_to_next_cell": 0
   },
   "source": [
    "## Preliminaries"
   ]
  },
  {
   "cell_type": "code",
   "execution_count": null,
   "id": "005f75ef",
   "metadata": {
    "tags": [
     "hide-input"
    ]
   },
   "outputs": [],
   "source": [
    "from pkg import set_warnings\n",
    "\n",
    "set_warnings()\n",
    "\n",
    "import datetime\n",
    "import time\n",
    "\n",
    "import matplotlib.pyplot as plt\n",
    "import numpy as np\n",
    "import pandas as pd\n",
    "import seaborn as sns\n",
    "from giskard.plot import rotate_labels\n",
    "from matplotlib.transforms import Bbox\n",
    "from myst_nb import glue\n",
    "from pkg.data import load_network_palette, load_node_palette, load_unmatched\n",
    "from pkg.io import savefig\n",
    "from pkg.perturb import remove_edges\n",
    "from pkg.plot import set_theme\n",
    "from pkg.stats import stochastic_block_test\n",
    "from seaborn.utils import relative_luminance\n",
    "\n",
    "DISPLAY_FIGS = False\n",
    "\n",
    "\n",
    "def gluefig(name, fig, **kwargs):\n",
    "    foldername = \"sbm_test\"\n",
    "    savefig(name, foldername=foldername, **kwargs)\n",
    "\n",
    "    glue(\"fig:\" + name, fig, display=False)\n",
    "\n",
    "    if not DISPLAY_FIGS:\n",
    "        plt.close()"
   ]
  },
  {
   "cell_type": "markdown",
   "id": "fc9522f6",
   "metadata": {
    "lines_to_next_cell": 0
   },
   "source": [
    "### Load and process data"
   ]
  },
  {
   "cell_type": "code",
   "execution_count": null,
   "id": "22be27a1",
   "metadata": {
    "tags": [
     "hide-input"
    ]
   },
   "outputs": [],
   "source": [
    "\n",
    "t0 = time.time()\n",
    "set_theme()\n",
    "rng = np.random.default_rng(8888)\n",
    "\n",
    "network_palette, NETWORK_KEY = load_network_palette()\n",
    "node_palette, NODE_KEY = load_node_palette()\n",
    "neutral_color = sns.color_palette(\"Set2\")[2]\n",
    "\n",
    "GROUP_KEY = \"simple_group\"\n",
    "\n",
    "left_adj, left_nodes = load_unmatched(side=\"left\")\n",
    "right_adj, right_nodes = load_unmatched(side=\"right\")\n",
    "\n",
    "left_labels = left_nodes[GROUP_KEY].values\n",
    "right_labels = right_nodes[GROUP_KEY].values"
   ]
  },
  {
   "cell_type": "markdown",
   "id": "5413552b",
   "metadata": {
    "lines_to_next_cell": 0
   },
   "source": [
    "## The stochastic block model 2-sample test"
   ]
  },
  {
   "cell_type": "markdown",
   "id": "7fc3a686",
   "metadata": {
    "lines_to_next_cell": 0
   },
   "source": [
    "### Run the test"
   ]
  },
  {
   "cell_type": "code",
   "execution_count": null,
   "id": "f1e85ee4",
   "metadata": {
    "lines_to_next_cell": 2,
    "tags": [
     "hide-input"
    ]
   },
   "outputs": [],
   "source": [
    "\n",
    "stat, pvalue, misc = stochastic_block_test(\n",
    "    left_adj, right_adj, labels1=left_labels, labels2=right_labels, method=\"fisher\"\n",
    ")\n",
    "glue(\"uncorrected_pvalue\", pvalue, display=False)"
   ]
  },
  {
   "cell_type": "markdown",
   "id": "bb6ce4e2",
   "metadata": {
    "lines_to_next_cell": 0
   },
   "source": [
    "### Plot the results"
   ]
  },
  {
   "cell_type": "code",
   "execution_count": null,
   "id": "3f8867a5",
   "metadata": {
    "tags": [
     "hide-input"
    ]
   },
   "outputs": [],
   "source": [
    "set_theme(font_scale=1)\n",
    "\n",
    "fig, ax = plt.subplots(1, 1, figsize=(10, 5))\n",
    "\n",
    "group_counts_left = misc[\"group_counts1\"]\n",
    "group_counts_right = misc[\"group_counts2\"]\n",
    "\n",
    "for i in range(len(group_counts_left)):\n",
    "    ax.bar(i - 0.17, group_counts_left[i], width=0.3, color=network_palette[\"Left\"])\n",
    "    ax.bar(i + 0.17, group_counts_right[i], width=0.3, color=network_palette[\"Right\"])\n",
    "\n",
    "rotate_labels(ax)\n",
    "ax.set(\n",
    "    ylabel=\"Count\",\n",
    "    xlabel=\"Group\",\n",
    "    xticks=np.arange(len(group_counts_left)) + 0.2,\n",
    "    xticklabels=group_counts_left.index,\n",
    ")\n",
    "gluefig(\"group-counts\", fig)"
   ]
  },
  {
   "cell_type": "markdown",
   "id": "f06d1b19",
   "metadata": {},
   "source": [
    "\n",
    "```{glue:figure} fig:group-counts\n",
    ":name: \"fig:group-counts\"\n",
    "\n",
    "The number of neurons in each group in each hemisphere. Note the similarity between\n",
    "the hemispheres.\n",
    "```"
   ]
  },
  {
   "cell_type": "code",
   "execution_count": null,
   "id": "e200bb42",
   "metadata": {
    "tags": [
     "hide-input"
    ]
   },
   "outputs": [],
   "source": [
    "\n",
    "\n",
    "def plot_stochastic_block_test(misc, pvalue_vmin=None):\n",
    "    # get values\n",
    "    B1 = misc[\"probabilities1\"]\n",
    "    B2 = misc[\"probabilities2\"]\n",
    "    null_odds = misc[\"null_odds\"]\n",
    "    B2 = B2 * null_odds\n",
    "\n",
    "    index = B1.index\n",
    "    p_max = max(B1.values.max(), B2.values.max())\n",
    "    uncorrected_pvalues = misc[\"uncorrected_pvalues\"]\n",
    "    n_tests = misc[\"n_tests\"]\n",
    "    K = B1.shape[0]\n",
    "    alpha = 0.05\n",
    "    hb_thresh = alpha / n_tests\n",
    "\n",
    "    # set up plot\n",
    "    pad = 2\n",
    "    width_ratios = [0.5, pad + 0.8, 10, pad - 0.4, 10, pad + 0.9, 10, 0.5]\n",
    "    set_theme(font_scale=1.25)\n",
    "    fig, axs = plt.subplots(\n",
    "        1,\n",
    "        len(width_ratios),\n",
    "        figsize=(30, 10),\n",
    "        gridspec_kw=dict(\n",
    "            width_ratios=width_ratios,\n",
    "        ),\n",
    "    )\n",
    "    left_col = 2\n",
    "    right_col = 4\n",
    "    pvalue_col = 6\n",
    "\n",
    "    heatmap_kws = dict(\n",
    "        cmap=\"Blues\", square=True, cbar=False, vmax=p_max, fmt=\"s\", xticklabels=True\n",
    "    )\n",
    "\n",
    "    # heatmap of left connection probabilities\n",
    "    annot = np.full((K, K), \"\")\n",
    "    annot[B1.values == 0] = 0\n",
    "    ax = axs[left_col]\n",
    "    sns.heatmap(B1, ax=ax, annot=annot, **heatmap_kws)\n",
    "    ax.set(ylabel=\"Source group\", xlabel=\"Target group\")\n",
    "    ax.set_title(r\"$\\hat{B}$ left\", fontsize=\"xx-large\", color=network_palette[\"Left\"])\n",
    "\n",
    "    # heatmap of right connection probabilities\n",
    "    annot = np.full((K, K), \"\")\n",
    "    annot[B2.values == 0] = 0\n",
    "    ax = axs[right_col]\n",
    "    im = sns.heatmap(B2, ax=ax, annot=annot, **heatmap_kws)\n",
    "    ax.set(ylabel=\"\", xlabel=\"Target group\")\n",
    "    text = r\"$\\hat{B}$ right\"\n",
    "    if null_odds != 1:\n",
    "        text = r\"$c$\" + text\n",
    "    ax.set_title(text, fontsize=\"xx-large\", color=network_palette[\"Right\"])\n",
    "\n",
    "    # handle the colorbars\n",
    "    # NOTE: did it this way cause the other options weren't playing nice with auto constrain\n",
    "    # layouts.\n",
    "\n",
    "    def shrink_axis(ax, scale=0.7):\n",
    "        pos = ax.get_position()\n",
    "        mid = (pos.ymax + pos.ymin) / 2\n",
    "        height = pos.ymax - pos.ymin\n",
    "        new_pos = Bbox(\n",
    "            [\n",
    "                [pos.xmin, mid - scale * 0.5 * height],\n",
    "                [pos.xmax, mid + scale * 0.5 * height],\n",
    "            ]\n",
    "        )\n",
    "        ax.set_position(new_pos)\n",
    "\n",
    "    ax = axs[0]\n",
    "    shrink_axis(ax, scale=0.5)\n",
    "    _ = fig.colorbar(\n",
    "        im.get_children()[0],\n",
    "        cax=ax,\n",
    "        fraction=1,\n",
    "        shrink=1,\n",
    "        ticklocation=\"left\",\n",
    "    )\n",
    "\n",
    "    # plot p-values\n",
    "    ax = axs[pvalue_col]\n",
    "\n",
    "    colors = im.get_children()[0].get_facecolors()\n",
    "    significant = uncorrected_pvalues < hb_thresh\n",
    "\n",
    "    annot = np.full((K, K), \"\")\n",
    "    annot[(B1.values == 0) & (B2.values == 0)] = \"B\"\n",
    "    annot[(B1.values == 0) & (B2.values != 0)] = \"L\"\n",
    "    annot[(B1.values != 0) & (B2.values == 0)] = \"R\"\n",
    "    plot_pvalues = np.log10(uncorrected_pvalues)\n",
    "    plot_pvalues[np.isnan(plot_pvalues)] = 0\n",
    "    im = sns.heatmap(\n",
    "        plot_pvalues,\n",
    "        ax=ax,\n",
    "        annot=annot,\n",
    "        cmap=\"RdBu\",\n",
    "        center=0,\n",
    "        square=True,\n",
    "        cbar=False,\n",
    "        fmt=\"s\",\n",
    "        vmin=pvalue_vmin,\n",
    "    )\n",
    "    ax.set(ylabel=\"\", xlabel=\"Target group\")\n",
    "    ax.set(xticks=np.arange(K) + 0.5, xticklabels=index)\n",
    "    ax.set_title(r\"$log_{10}($p-value$)$\", fontsize=\"xx-large\")\n",
    "\n",
    "    # NOTE: the x's looked bad so I did this super hacky thing...\n",
    "    pad = 0.2\n",
    "    for idx, (is_significant, color) in enumerate(\n",
    "        zip(significant.values.ravel(), colors)\n",
    "    ):\n",
    "        if is_significant:\n",
    "            i, j = np.unravel_index(idx, (K, K))\n",
    "            # REF: seaborn heatmap\n",
    "            lum = relative_luminance(color)\n",
    "            text_color = \".15\" if lum > 0.408 else \"w\"\n",
    "\n",
    "            xs = [j + pad, j + 1 - pad]\n",
    "            ys = [i + pad, i + 1 - pad]\n",
    "            ax.plot(xs, ys, color=text_color, linewidth=4)\n",
    "            xs = [j + 1 - pad, j + pad]\n",
    "            ys = [i + pad, i + 1 - pad]\n",
    "            ax.plot(xs, ys, color=text_color, linewidth=4)\n",
    "\n",
    "    # plot colorbar for the pvalue plot\n",
    "    # NOTE: only did it this way for consistency with the other colorbar\n",
    "    ax = axs[7]\n",
    "    shrink_axis(ax, scale=0.5)\n",
    "    _ = fig.colorbar(\n",
    "        im.get_children()[0],\n",
    "        cax=ax,\n",
    "        fraction=1,\n",
    "        shrink=1,\n",
    "        ticklocation=\"right\",\n",
    "    )\n",
    "\n",
    "    fig.text(0.11, 0.85, \"A)\", fontweight=\"bold\", fontsize=50)\n",
    "    fig.text(0.63, 0.85, \"B)\", fontweight=\"bold\", fontsize=50)\n",
    "\n",
    "    # remove dummy axes\n",
    "    for i in range(len(width_ratios)):\n",
    "        if not axs[i].has_data():\n",
    "            axs[i].set_visible(False)\n",
    "\n",
    "    return fig, axs\n",
    "\n",
    "\n",
    "fig, axs = plot_stochastic_block_test(misc)\n",
    "gluefig(\"sbm-uncorrected\", fig)\n",
    "\n",
    "# need to save this for later for setting colorbar the same on other plot\n",
    "pvalue_vmin = np.log10(np.nanmin(misc[\"uncorrected_pvalues\"].values))"
   ]
  },
  {
   "cell_type": "markdown",
   "id": "4d5d956b",
   "metadata": {
    "lines_to_next_cell": 2
   },
   "source": [
    "```{glue:figure} fig:sbm-uncorrected\n",
    ":name: \"fig:sbm-uncorrected\"\n",
    "\n",
    "Comparison of stochastic block model fits for the left and right hemispheres.\n",
    "**A)** The estimated group-to-group connection probabilities for the left\n",
    "and right hemispheres appear qualitatively similar. Any estimated\n",
    "probabilities which are zero (i.e. no edge was present between a given pair of\n",
    "communities) is indicated explicitly with a \"0\" in that cell of the matrix.\n",
    "**B)** The p-values for each hypothesis test between individual elements of\n",
    "the block probability matrices. In other words, each cell represents a test for\n",
    "whether a given group-to-group connection probability is the same on the left and the\n",
    "right sides. \"X\" denotes a significant p-value after Bonferroni-Holm correction,\n",
    "with $\\alpha=0.05$. \"B\" indicates that a test was not run since the estimated probability\n",
    "was zero in that cell on both the left and right. \"L\" indicates this was the case on\n",
    "the left only, and \"R\" that it was the case on the right only. These individual\n",
    "p-values were combined using Fisher's method, resulting in an overall p-value (for the\n",
    "null hypothesis that the two group connection probability matrices are the same) of\n",
    "{glue:text}`uncorrected_pvalue:0.2e`.\n",
    "```"
   ]
  },
  {
   "cell_type": "code",
   "execution_count": null,
   "id": "a6ffffec",
   "metadata": {
    "tags": [
     "hide-input"
    ]
   },
   "outputs": [],
   "source": [
    "\n",
    "\n",
    "def plot_estimated_probabilities(misc):\n",
    "    B1 = misc[\"probabilities1\"]\n",
    "    B2 = misc[\"probabilities2\"]\n",
    "    null_odds = misc[\"null_odds\"]\n",
    "    B2 = B2 * null_odds\n",
    "    B1_ravel = B1.values.ravel()\n",
    "    B2_ravel = B2.values.ravel()\n",
    "    arange = np.arange(len(B1_ravel))\n",
    "    sum_ravel = B1_ravel + B2_ravel\n",
    "    sort_inds = np.argsort(-sum_ravel)\n",
    "    B1_ravel = B1_ravel[sort_inds]\n",
    "    B2_ravel = B2_ravel[sort_inds]\n",
    "\n",
    "    fig, axs = plt.subplots(2, 1, figsize=(10, 10), sharex=True)\n",
    "    ax = axs[0]\n",
    "    sns.scatterplot(\n",
    "        x=arange,\n",
    "        y=B1_ravel,\n",
    "        color=network_palette[\"Left\"],\n",
    "        ax=ax,\n",
    "        linewidth=0,\n",
    "        s=15,\n",
    "        alpha=0.5,\n",
    "    )\n",
    "    sns.scatterplot(\n",
    "        x=arange,\n",
    "        y=B2_ravel,\n",
    "        color=network_palette[\"Right\"],\n",
    "        ax=ax,\n",
    "        linewidth=0,\n",
    "        s=15,\n",
    "        alpha=0.5,\n",
    "        zorder=-1,\n",
    "    )\n",
    "    ax.text(\n",
    "        0.7,\n",
    "        0.8,\n",
    "        \"Left\",\n",
    "        color=network_palette[\"Left\"],\n",
    "        transform=ax.transAxes,\n",
    "    )\n",
    "    ax.text(\n",
    "        0.7,\n",
    "        0.7,\n",
    "        \"Right\",\n",
    "        color=network_palette[\"Right\"],\n",
    "        transform=ax.transAxes,\n",
    "    )\n",
    "    ax.set_yscale(\"log\")\n",
    "    ax.set(\n",
    "        ylabel=\"Estimated probability \" + r\"($\\hat{p}$)\",\n",
    "        xticks=[],\n",
    "        xlabel=\"Sorted group pairs\",\n",
    "    )\n",
    "    ax.spines[\"bottom\"].set_visible(False)\n",
    "\n",
    "    ax = axs[1]\n",
    "    diff = B1_ravel - B2_ravel\n",
    "    yscale = np.max(np.abs(diff))\n",
    "    yscale *= 1.05\n",
    "    sns.scatterplot(\n",
    "        x=arange, y=diff, ax=ax, linewidth=0, s=25, color=neutral_color, alpha=1\n",
    "    )\n",
    "    ax.axhline(0, color=\"black\", zorder=-1)\n",
    "    ax.spines[\"bottom\"].set_visible(False)\n",
    "    ax.set(\n",
    "        xticks=[],\n",
    "        ylabel=r\"$\\hat{p}_{left} - \\hat{p}_{right}$\",\n",
    "        xlabel=\"Sorted group pairs\",\n",
    "        ylim=(-yscale, yscale),\n",
    "    )\n",
    "    n_greater = np.count_nonzero(diff > 0)\n",
    "    n_total = len(diff)\n",
    "    ax.text(\n",
    "        0.3,\n",
    "        0.8,\n",
    "        f\"Left connection stronger ({n_greater}/{n_total})\",\n",
    "        color=network_palette[\"Left\"],\n",
    "        transform=ax.transAxes,\n",
    "    )\n",
    "    n_lesser = np.count_nonzero(diff < 0)\n",
    "    ax.text(\n",
    "        0.3,\n",
    "        0.15,\n",
    "        f\"Right connection stronger ({n_lesser}/{n_total})\",\n",
    "        color=network_palette[\"Right\"],\n",
    "        transform=ax.transAxes,\n",
    "    )\n",
    "\n",
    "    fig.text(0.02, 0.905, \"A)\", fontweight=\"bold\", fontsize=30)\n",
    "    fig.text(0.02, 0.49, \"B)\", fontweight=\"bold\", fontsize=30)\n",
    "\n",
    "    return fig, ax\n",
    "\n",
    "\n",
    "fig, ax = plot_estimated_probabilities(misc)\n",
    "gluefig(\"probs-uncorrected\", fig)"
   ]
  },
  {
   "cell_type": "markdown",
   "id": "19425fda",
   "metadata": {},
   "source": [
    "```{glue:figure} fig:probs-uncorrected\n",
    ":name: \"fig:probs-uncorrected\"\n",
    "\n",
    "Comparison of estimated connection probabilities for the left and right hemispheres.\n",
    "**A)** The estimated group-to-group connection probabilities ($\\hat{p}$), sorted by\n",
    "the mean left/right connection probability. Note the very subtle tendency for the\n",
    "left probability to be lower than the corresponding one on the right. **B)** The\n",
    "differences between corresponding group-to-group connection probabilities\n",
    "($\\hat{p}_{left} - \\hat{p}_{right}$). The trend of the left connection probabilities\n",
    "being slightly smaller than the corresponding probability on the right is more\n",
    "apparent here, as there are more negative than positive values.\n",
    "```"
   ]
  },
  {
   "cell_type": "markdown",
   "id": "42925cc2",
   "metadata": {},
   "source": [
    "## Look at the community connections that were significantly different"
   ]
  },
  {
   "cell_type": "code",
   "execution_count": null,
   "id": "eb5d0722",
   "metadata": {
    "lines_to_next_cell": 2,
    "tags": [
     "hide-input"
    ]
   },
   "outputs": [],
   "source": [
    "\n",
    "\n",
    "def plot_significant_probabilities(misc):\n",
    "    B1 = misc[\"probabilities1\"]\n",
    "    B2 = misc[\"probabilities2\"]\n",
    "    null_odds = misc[\"null_odds\"]\n",
    "    B2 = B2 * null_odds\n",
    "    index = B1.index\n",
    "    uncorrected_pvalues = misc[\"uncorrected_pvalues\"]\n",
    "    n_tests = misc[\"n_tests\"]\n",
    "\n",
    "    alpha = 0.05\n",
    "    hb_thresh = alpha / n_tests\n",
    "    significant = uncorrected_pvalues < hb_thresh\n",
    "\n",
    "    row_inds, col_inds = np.nonzero(significant.values)\n",
    "\n",
    "    rows = []\n",
    "    for row_ind, col_ind in zip(row_inds, col_inds):\n",
    "        source = index[row_ind]\n",
    "        target = index[col_ind]\n",
    "        left_p = B1.loc[source, target]\n",
    "        right_p = B2.loc[source, target]\n",
    "        pair = source + r\"$\\rightarrow$\" + target\n",
    "        rows.append(\n",
    "            {\n",
    "                \"source\": source,\n",
    "                \"target\": target,\n",
    "                \"p\": left_p,\n",
    "                \"side\": \"Left\",\n",
    "                \"pair\": pair,\n",
    "            }\n",
    "        )\n",
    "        rows.append(\n",
    "            {\n",
    "                \"source\": source,\n",
    "                \"target\": target,\n",
    "                \"p\": right_p,\n",
    "                \"side\": \"Right\",\n",
    "                \"pair\": pair,\n",
    "            }\n",
    "        )\n",
    "    sig_data = pd.DataFrame(rows)\n",
    "\n",
    "    fig, ax = plt.subplots(1, 1, figsize=(8, 6))\n",
    "    sns.pointplot(\n",
    "        data=sig_data,\n",
    "        y=\"p\",\n",
    "        x=\"pair\",\n",
    "        ax=ax,\n",
    "        hue=\"side\",\n",
    "        dodge=True,\n",
    "        join=False,\n",
    "        palette=network_palette,\n",
    "    )\n",
    "\n",
    "    ax.get_legend().set_title(\"Side\")\n",
    "    rotate_labels(ax)\n",
    "    ax.set(xlabel=\"Group pair\", ylabel=\"Connection probability\")\n",
    "    return fig, ax\n",
    "\n",
    "\n",
    "fig, ax = plot_significant_probabilities(misc)\n",
    "gluefig(\"significant-p-comparison\", fig)"
   ]
  },
  {
   "cell_type": "markdown",
   "id": "5e602b1b",
   "metadata": {},
   "source": [
    "```{glue:figure} fig:significant-p-comparison\n",
    ":name: \"fig:significant-p-comparison\"\n",
    "\n",
    "Comparison of estimated group-to-group connection probabilities for the group-pairs\n",
    "which were significantly different in {numref}`Figure {number} <fig:sbm-uncorrected>`.\n",
    "In each case, the connection probability on the right hemisphere is higher.\n",
    "```"
   ]
  },
  {
   "cell_type": "code",
   "execution_count": null,
   "id": "dcde66c6",
   "metadata": {
    "lines_to_next_cell": 0,
    "tags": [
     "hide-input"
    ]
   },
   "outputs": [],
   "source": []
  },
  {
   "cell_type": "markdown",
   "id": "1a5cbc94",
   "metadata": {
    "lines_to_next_cell": 0
   },
   "source": [
    "## Resample the right network to make the density the same, rerun the test\n",
    "Below, we'll see what happens when we try to make the network densities the same, and\n",
    "then re-run the test proceedure above. First, we calculate the number of edges\n",
    "required to set the network densities roughly the same. Then, we randomly remove that\n",
    "number of edges from the right hemisphere network, and rerun the test. We repeat this\n",
    "proceedure {glue:text}`n_resamples` times, and look at the distribution of p-values\n",
    "that result."
   ]
  },
  {
   "cell_type": "code",
   "execution_count": null,
   "id": "4bb50142",
   "metadata": {
    "tags": [
     "hide-input"
    ]
   },
   "outputs": [],
   "source": [
    "n_edges_left = np.count_nonzero(left_adj)\n",
    "n_edges_right = np.count_nonzero(right_adj)\n",
    "n_left = left_adj.shape[0]\n",
    "n_right = right_adj.shape[0]\n",
    "density_left = n_edges_left / (n_left ** 2)\n",
    "density_right = n_edges_right / (n_right ** 2)\n",
    "\n",
    "n_remove = int((density_right - density_left) * (n_right ** 2))\n",
    "\n",
    "glue(\"density_left\", density_left, display=False)\n",
    "glue(\"density_right\", density_right, display=False)\n",
    "glue(\"n_remove\", n_remove, display=False)"
   ]
  },
  {
   "cell_type": "code",
   "execution_count": null,
   "id": "6fa38024",
   "metadata": {
    "tags": [
     "hide-input"
    ]
   },
   "outputs": [],
   "source": [
    "rows = []\n",
    "n_resamples = 25\n",
    "glue(\"n_resamples\", n_resamples, display=False)\n",
    "for i in range(n_resamples):\n",
    "    subsampled_right_adj = remove_edges(\n",
    "        right_adj, effect_size=n_remove, random_seed=rng\n",
    "    )\n",
    "    stat, pvalue, misc = stochastic_block_test(\n",
    "        left_adj,\n",
    "        subsampled_right_adj,\n",
    "        labels1=left_labels,\n",
    "        labels2=right_labels,\n",
    "        method=\"fisher\",\n",
    "    )\n",
    "    rows.append({\"stat\": stat, \"pvalue\": pvalue, \"misc\": misc, \"resample\": i})\n",
    "\n",
    "resample_results = pd.DataFrame(rows)"
   ]
  },
  {
   "cell_type": "markdown",
   "id": "c36564fd",
   "metadata": {
    "lines_to_next_cell": 0
   },
   "source": [
    "### Plot the p-values for the corrected tests"
   ]
  },
  {
   "cell_type": "code",
   "execution_count": null,
   "id": "b9be6c70",
   "metadata": {
    "tags": [
     "hide-input"
    ]
   },
   "outputs": [],
   "source": [
    "fig, ax = plt.subplots(1, 1, figsize=(8, 6))\n",
    "sns.histplot(data=resample_results, x=\"pvalue\", ax=ax)\n",
    "ax.set(xlabel=\"p-value\", ylabel=\"\", yticks=[])\n",
    "ax.spines[\"left\"].set_visible(False)\n",
    "\n",
    "mean_resample_pvalue = np.mean(resample_results[\"pvalue\"])\n",
    "median_resample_pvalue = np.median(resample_results[\"pvalue\"])\n",
    "\n",
    "gluefig(\"pvalues-corrected\", fig)"
   ]
  },
  {
   "cell_type": "markdown",
   "id": "4c7857ee",
   "metadata": {},
   "source": [
    "```{glue:figure} fig:pvalues-corrected\n",
    ":name: \"fig:pvalues-corrected\"\n",
    "\n",
    "Histogram of p-values after a correction for network density. For the observed networks\n",
    "the left hemisphere has a density of {glue:text}`density_left:0.4f`, and the right hemisphere has\n",
    "a density of {glue:text}`density_right:0.4f`. Here, we randomly removed exactly {glue:text}`n_remove`\n",
    "edges from the right hemisphere network, which makes the density of the right network\n",
    "match that of the left hemisphere network. Then, we re-ran the stochastic block model testing\n",
    "procedure from {numref}`Figure {number} <fig:sbm-uncorrected>`. This entire process\n",
    "was repeated {glue:text}`n_resamples` times. The histogram above shows the distribution\n",
    "of p-values for the overall test. Note that the p-values are no longer small, indicating\n",
    "that with this density correction, we now failed to reject our null hypothesis of\n",
    "bilateral symmetry under the stochastic block model.\n",
    "```"
   ]
  },
  {
   "cell_type": "markdown",
   "id": "3a806868",
   "metadata": {
    "lines_to_next_cell": 0
   },
   "source": [
    "## An alternative approach to correcting for differences in density\n",
    "Instead of randomly resetting the density of the right hemisphere network, we can\n",
    "actually correct each test to account for this difference. Fisher's exact test (used\n",
    "above to compare each element of the $\\hat{B}$ matrices) tests the null hypothesis:\n",
    "\n",
    "$$H_0: p_{left} = p_{right}, \\quad H_A: p_{left} \\neq p_{right}$$\n",
    "\n",
    "Instead, we can use a test of:\n",
    "\n",
    "$$H_0: p_{left} = c p_{right}, \\quad H_A: p_{left} \\neq c p_{right}$$\n",
    "\n",
    "In our case, $c$ is a constant that we fit to the entire right hemisphere network to\n",
    "set it's density equal to the left. If $\\rho$ is the network density (number of edges\n",
    "divided by number of possible edges) then\n",
    "\n",
    "$$c = \\frac{\\rho_{left}}{\\rho_{right}}$$\n",
    "\n",
    "A test for the adjusted null hypothesis above is given by using\n",
    "[Fisher's noncentral hypergeometric distribution](https://en.wikipedia.org/wiki/Fisher%27s_noncentral_hypergeometric_distribution)\n",
    "and applying a proceedure much like that of the traditional Fisher's exact test. More\n",
    "information about this test can be found in [the Appendix](page:nufe)."
   ]
  },
  {
   "cell_type": "code",
   "execution_count": null,
   "id": "70ca03db",
   "metadata": {
    "tags": [
     "hide-input"
    ]
   },
   "outputs": [],
   "source": [
    "null_odds = density_left / density_right\n",
    "stat, pvalue, misc = stochastic_block_test(\n",
    "    left_adj,\n",
    "    right_adj,\n",
    "    labels1=left_labels,\n",
    "    labels2=right_labels,\n",
    "    method=\"fisher\",\n",
    "    null_odds=null_odds,\n",
    ")\n",
    "glue(\"corrected-pvalue\", pvalue, display=False)"
   ]
  },
  {
   "cell_type": "code",
   "execution_count": null,
   "id": "4552e954",
   "metadata": {
    "tags": [
     "hide-input"
    ]
   },
   "outputs": [],
   "source": [
    "fig, axs = plot_stochastic_block_test(misc, pvalue_vmin=pvalue_vmin)\n",
    "gluefig(\"sbm-corrected\", fig)"
   ]
  },
  {
   "cell_type": "markdown",
   "id": "e4bdc58b",
   "metadata": {
    "lines_to_next_cell": 0
   },
   "source": [
    "```{glue:figure} fig:sbm-corrected\n",
    ":name: \"fig:sbm-corrected\"\n",
    "\n",
    "Comparison of stochastic block model fits for the left and right hemispheres after\n",
    "correcting for a difference in hemisphere density.\n",
    "**A)** The estimated group-to-group connection probabilities for the left\n",
    "and right hemispheres, after the right hemisphere probabilities were scaled by a\n",
    "density-adjusting constant, $c$. Any estimated\n",
    "probabilities which are zero (i.e. no edge was present between a given pair of\n",
    "communities) is indicated explicitly with a \"0\" in that cell of the matrix.\n",
    "**B)** The p-values for each hypothesis test between individual elements of\n",
    "the block probability matrices. In other words, each cell represents a test for\n",
    "whether a given group-to-group connection probability is the same on the left and the\n",
    "right sides. \"X\" denotes a significant p-value after Bonferroni-Holm correction,\n",
    "with $\\alpha=0.05$. \"B\" indicates that a test was not run since the estimated probability\n",
    "was zero in that cell on both the left and right. \"L\" indicates this was the case on\n",
    "the left only, and \"R\" that it was the case on the right only. These individual\n",
    "p-values were combined using Fisher's method, resulting in an overall p-value (for the\n",
    "null hypothesis that the two group connection probability matrices are the same after\n",
    "adjustment by a density-normalizing constant, $c$) of\n",
    "{glue:text}`corrected-pvalue:0.2e`.\n",
    "```"
   ]
  },
  {
   "cell_type": "markdown",
   "id": "0e2346c3",
   "metadata": {
    "lines_to_next_cell": 0
   },
   "source": [
    "## End"
   ]
  },
  {
   "cell_type": "code",
   "execution_count": null,
   "id": "589ca1f0",
   "metadata": {
    "tags": [
     "hide-input"
    ]
   },
   "outputs": [],
   "source": [
    "elapsed = time.time() - t0\n",
    "delta = datetime.timedelta(seconds=elapsed)\n",
    "print(\"----\")\n",
    "print(f\"Script took {delta}\")\n",
    "print(f\"Completed at {datetime.datetime.now()}\")\n",
    "print(\"----\")"
   ]
  }
 ],
 "metadata": {
  "jupytext": {
   "cell_metadata_filter": "-all",
   "main_language": "python",
   "notebook_metadata_filter": "-all"
  }
 },
 "nbformat": 4,
 "nbformat_minor": 5
}
